{
  "metadata": {
    "kernelspec": {
      "language": "python",
      "display_name": "Python 3",
      "name": "python3"
    },
    "language_info": {
      "name": "python",
      "version": "3.10.12",
      "mimetype": "text/x-python",
      "codemirror_mode": {
        "name": "ipython",
        "version": 3
      },
      "pygments_lexer": "ipython3",
      "nbconvert_exporter": "python",
      "file_extension": ".py"
    },
    "kaggle": {
      "accelerator": "nvidiaTeslaT4",
      "dataSources": [],
      "dockerImageVersionId": 30919,
      "isInternetEnabled": true,
      "language": "python",
      "sourceType": "notebook",
      "isGpuEnabled": true
    },
    "colab": {
      "provenance": []
    }
  },
  "nbformat_minor": 0,
  "nbformat": 4,
  "cells": [
    {
      "cell_type": "code",
      "source": [
        "\n",
        "import numpy as np\n",
        "import pandas as pd\n"
      ],
      "metadata": {
        "_uuid": "8f2839f25d086af736a60e9eeb907d3b93b6e0e5",
        "_cell_guid": "b1076dfc-b9ad-4769-8c92-a6c4dae69d19",
        "trusted": true,
        "execution": {
          "iopub.status.busy": "2025-03-17T09:21:45.941740Z",
          "iopub.execute_input": "2025-03-17T09:21:45.942033Z",
          "iopub.status.idle": "2025-03-17T09:21:46.283205Z",
          "shell.execute_reply.started": "2025-03-17T09:21:45.942012Z",
          "shell.execute_reply": "2025-03-17T09:21:46.282450Z"
        },
        "id": "WQfA0VwECP0e"
      },
      "outputs": [],
      "execution_count": null
    },
    {
      "cell_type": "code",
      "source": [
        "import torch\n",
        "import torch.nn as nn\n",
        "import torch.optim as optim\n",
        "from torch.utils.data import DataLoader, TensorDataset\n",
        "from sklearn.datasets import load_breast_cancer\n",
        "from sklearn.model_selection import train_test_split\n",
        "from sklearn.preprocessing import StandardScaler\n",
        "import numpy as np\n"
      ],
      "metadata": {
        "trusted": true,
        "execution": {
          "iopub.status.busy": "2025-03-17T09:21:46.283980Z",
          "iopub.execute_input": "2025-03-17T09:21:46.284343Z",
          "iopub.status.idle": "2025-03-17T09:21:48.344685Z",
          "shell.execute_reply.started": "2025-03-17T09:21:46.284318Z",
          "shell.execute_reply": "2025-03-17T09:21:48.343959Z"
        },
        "id": "twOSzVdBCP0t"
      },
      "outputs": [],
      "execution_count": null
    },
    {
      "cell_type": "code",
      "source": [
        "data = load_breast_cancer()\n",
        "X = data.data\n",
        "y = data.target"
      ],
      "metadata": {
        "trusted": true,
        "execution": {
          "iopub.status.busy": "2025-03-17T09:21:48.346525Z",
          "iopub.execute_input": "2025-03-17T09:21:48.346902Z",
          "iopub.status.idle": "2025-03-17T09:21:48.357116Z",
          "shell.execute_reply.started": "2025-03-17T09:21:48.346880Z",
          "shell.execute_reply": "2025-03-17T09:21:48.356384Z"
        },
        "id": "s78VKdkWCP0v"
      },
      "outputs": [],
      "execution_count": null
    },
    {
      "cell_type": "code",
      "source": [
        "data"
      ],
      "metadata": {
        "trusted": true,
        "execution": {
          "iopub.status.busy": "2025-03-17T09:21:48.358111Z",
          "iopub.execute_input": "2025-03-17T09:21:48.358363Z",
          "iopub.status.idle": "2025-03-17T09:21:48.368520Z",
          "shell.execute_reply.started": "2025-03-17T09:21:48.358343Z",
          "shell.execute_reply": "2025-03-17T09:21:48.367814Z"
        },
        "id": "ZQ0PqLEpCP0x",
        "outputId": "6fe4e896-987f-4e3b-ed50-ce27ac3c543b",
        "colab": {
          "base_uri": "https://localhost:8080/"
        }
      },
      "outputs": [
        {
          "output_type": "execute_result",
          "data": {
            "text/plain": [
              "{'data': array([[1.799e+01, 1.038e+01, 1.228e+02, ..., 2.654e-01, 4.601e-01,\n",
              "         1.189e-01],\n",
              "        [2.057e+01, 1.777e+01, 1.329e+02, ..., 1.860e-01, 2.750e-01,\n",
              "         8.902e-02],\n",
              "        [1.969e+01, 2.125e+01, 1.300e+02, ..., 2.430e-01, 3.613e-01,\n",
              "         8.758e-02],\n",
              "        ...,\n",
              "        [1.660e+01, 2.808e+01, 1.083e+02, ..., 1.418e-01, 2.218e-01,\n",
              "         7.820e-02],\n",
              "        [2.060e+01, 2.933e+01, 1.401e+02, ..., 2.650e-01, 4.087e-01,\n",
              "         1.240e-01],\n",
              "        [7.760e+00, 2.454e+01, 4.792e+01, ..., 0.000e+00, 2.871e-01,\n",
              "         7.039e-02]]),\n",
              " 'target': array([0, 0, 0, 0, 0, 0, 0, 0, 0, 0, 0, 0, 0, 0, 0, 0, 0, 0, 0, 1, 1, 1,\n",
              "        0, 0, 0, 0, 0, 0, 0, 0, 0, 0, 0, 0, 0, 0, 0, 1, 0, 0, 0, 0, 0, 0,\n",
              "        0, 0, 1, 0, 1, 1, 1, 1, 1, 0, 0, 1, 0, 0, 1, 1, 1, 1, 0, 1, 0, 0,\n",
              "        1, 1, 1, 1, 0, 1, 0, 0, 1, 0, 1, 0, 0, 1, 1, 1, 0, 0, 1, 0, 0, 0,\n",
              "        1, 1, 1, 0, 1, 1, 0, 0, 1, 1, 1, 0, 0, 1, 1, 1, 1, 0, 1, 1, 0, 1,\n",
              "        1, 1, 1, 1, 1, 1, 1, 0, 0, 0, 1, 0, 0, 1, 1, 1, 0, 0, 1, 0, 1, 0,\n",
              "        0, 1, 0, 0, 1, 1, 0, 1, 1, 0, 1, 1, 1, 1, 0, 1, 1, 1, 1, 1, 1, 1,\n",
              "        1, 1, 0, 1, 1, 1, 1, 0, 0, 1, 0, 1, 1, 0, 0, 1, 1, 0, 0, 1, 1, 1,\n",
              "        1, 0, 1, 1, 0, 0, 0, 1, 0, 1, 0, 1, 1, 1, 0, 1, 1, 0, 0, 1, 0, 0,\n",
              "        0, 0, 1, 0, 0, 0, 1, 0, 1, 0, 1, 1, 0, 1, 0, 0, 0, 0, 1, 1, 0, 0,\n",
              "        1, 1, 1, 0, 1, 1, 1, 1, 1, 0, 0, 1, 1, 0, 1, 1, 0, 0, 1, 0, 1, 1,\n",
              "        1, 1, 0, 1, 1, 1, 1, 1, 0, 1, 0, 0, 0, 0, 0, 0, 0, 0, 0, 0, 0, 0,\n",
              "        0, 0, 1, 1, 1, 1, 1, 1, 0, 1, 0, 1, 1, 0, 1, 1, 0, 1, 0, 0, 1, 1,\n",
              "        1, 1, 1, 1, 1, 1, 1, 1, 1, 1, 1, 0, 1, 1, 0, 1, 0, 1, 1, 1, 1, 1,\n",
              "        1, 1, 1, 1, 1, 1, 1, 1, 1, 0, 1, 1, 1, 0, 1, 0, 1, 1, 1, 1, 0, 0,\n",
              "        0, 1, 1, 1, 1, 0, 1, 0, 1, 0, 1, 1, 1, 0, 1, 1, 1, 1, 1, 1, 1, 0,\n",
              "        0, 0, 1, 1, 1, 1, 1, 1, 1, 1, 1, 1, 1, 0, 0, 1, 0, 0, 0, 1, 0, 0,\n",
              "        1, 1, 1, 1, 1, 0, 1, 1, 1, 1, 1, 0, 1, 1, 1, 0, 1, 1, 0, 0, 1, 1,\n",
              "        1, 1, 1, 1, 0, 1, 1, 1, 1, 1, 1, 1, 0, 1, 1, 1, 1, 1, 0, 1, 1, 0,\n",
              "        1, 1, 1, 1, 1, 1, 1, 1, 1, 1, 1, 1, 0, 1, 0, 0, 1, 0, 1, 1, 1, 1,\n",
              "        1, 0, 1, 1, 0, 1, 0, 1, 1, 0, 1, 0, 1, 1, 1, 1, 1, 1, 1, 1, 0, 0,\n",
              "        1, 1, 1, 1, 1, 1, 0, 1, 1, 1, 1, 1, 1, 1, 1, 1, 1, 0, 1, 1, 1, 1,\n",
              "        1, 1, 1, 0, 1, 0, 1, 1, 0, 1, 1, 1, 1, 1, 0, 0, 1, 0, 1, 0, 1, 1,\n",
              "        1, 1, 1, 0, 1, 1, 0, 1, 0, 1, 0, 0, 1, 1, 1, 0, 1, 1, 1, 1, 1, 1,\n",
              "        1, 1, 1, 1, 1, 0, 1, 0, 0, 1, 1, 1, 1, 1, 1, 1, 1, 1, 1, 1, 1, 1,\n",
              "        1, 1, 1, 1, 1, 1, 1, 1, 1, 1, 1, 1, 0, 0, 0, 0, 0, 0, 1]),\n",
              " 'frame': None,\n",
              " 'target_names': array(['malignant', 'benign'], dtype='<U9'),\n",
              " 'DESCR': '.. _breast_cancer_dataset:\\n\\nBreast cancer wisconsin (diagnostic) dataset\\n--------------------------------------------\\n\\n**Data Set Characteristics:**\\n\\n:Number of Instances: 569\\n\\n:Number of Attributes: 30 numeric, predictive attributes and the class\\n\\n:Attribute Information:\\n    - radius (mean of distances from center to points on the perimeter)\\n    - texture (standard deviation of gray-scale values)\\n    - perimeter\\n    - area\\n    - smoothness (local variation in radius lengths)\\n    - compactness (perimeter^2 / area - 1.0)\\n    - concavity (severity of concave portions of the contour)\\n    - concave points (number of concave portions of the contour)\\n    - symmetry\\n    - fractal dimension (\"coastline approximation\" - 1)\\n\\n    The mean, standard error, and \"worst\" or largest (mean of the three\\n    worst/largest values) of these features were computed for each image,\\n    resulting in 30 features.  For instance, field 0 is Mean Radius, field\\n    10 is Radius SE, field 20 is Worst Radius.\\n\\n    - class:\\n            - WDBC-Malignant\\n            - WDBC-Benign\\n\\n:Summary Statistics:\\n\\n===================================== ====== ======\\n                                        Min    Max\\n===================================== ====== ======\\nradius (mean):                        6.981  28.11\\ntexture (mean):                       9.71   39.28\\nperimeter (mean):                     43.79  188.5\\narea (mean):                          143.5  2501.0\\nsmoothness (mean):                    0.053  0.163\\ncompactness (mean):                   0.019  0.345\\nconcavity (mean):                     0.0    0.427\\nconcave points (mean):                0.0    0.201\\nsymmetry (mean):                      0.106  0.304\\nfractal dimension (mean):             0.05   0.097\\nradius (standard error):              0.112  2.873\\ntexture (standard error):             0.36   4.885\\nperimeter (standard error):           0.757  21.98\\narea (standard error):                6.802  542.2\\nsmoothness (standard error):          0.002  0.031\\ncompactness (standard error):         0.002  0.135\\nconcavity (standard error):           0.0    0.396\\nconcave points (standard error):      0.0    0.053\\nsymmetry (standard error):            0.008  0.079\\nfractal dimension (standard error):   0.001  0.03\\nradius (worst):                       7.93   36.04\\ntexture (worst):                      12.02  49.54\\nperimeter (worst):                    50.41  251.2\\narea (worst):                         185.2  4254.0\\nsmoothness (worst):                   0.071  0.223\\ncompactness (worst):                  0.027  1.058\\nconcavity (worst):                    0.0    1.252\\nconcave points (worst):               0.0    0.291\\nsymmetry (worst):                     0.156  0.664\\nfractal dimension (worst):            0.055  0.208\\n===================================== ====== ======\\n\\n:Missing Attribute Values: None\\n\\n:Class Distribution: 212 - Malignant, 357 - Benign\\n\\n:Creator:  Dr. William H. Wolberg, W. Nick Street, Olvi L. Mangasarian\\n\\n:Donor: Nick Street\\n\\n:Date: November, 1995\\n\\nThis is a copy of UCI ML Breast Cancer Wisconsin (Diagnostic) datasets.\\nhttps://goo.gl/U2Uwz2\\n\\nFeatures are computed from a digitized image of a fine needle\\naspirate (FNA) of a breast mass.  They describe\\ncharacteristics of the cell nuclei present in the image.\\n\\nSeparating plane described above was obtained using\\nMultisurface Method-Tree (MSM-T) [K. P. Bennett, \"Decision Tree\\nConstruction Via Linear Programming.\" Proceedings of the 4th\\nMidwest Artificial Intelligence and Cognitive Science Society,\\npp. 97-101, 1992], a classification method which uses linear\\nprogramming to construct a decision tree.  Relevant features\\nwere selected using an exhaustive search in the space of 1-4\\nfeatures and 1-3 separating planes.\\n\\nThe actual linear program used to obtain the separating plane\\nin the 3-dimensional space is that described in:\\n[K. P. Bennett and O. L. Mangasarian: \"Robust Linear\\nProgramming Discrimination of Two Linearly Inseparable Sets\",\\nOptimization Methods and Software 1, 1992, 23-34].\\n\\nThis database is also available through the UW CS ftp server:\\n\\nftp ftp.cs.wisc.edu\\ncd math-prog/cpo-dataset/machine-learn/WDBC/\\n\\n.. dropdown:: References\\n\\n  - W.N. Street, W.H. Wolberg and O.L. Mangasarian. Nuclear feature extraction\\n    for breast tumor diagnosis. IS&T/SPIE 1993 International Symposium on\\n    Electronic Imaging: Science and Technology, volume 1905, pages 861-870,\\n    San Jose, CA, 1993.\\n  - O.L. Mangasarian, W.N. Street and W.H. Wolberg. Breast cancer diagnosis and\\n    prognosis via linear programming. Operations Research, 43(4), pages 570-577,\\n    July-August 1995.\\n  - W.H. Wolberg, W.N. Street, and O.L. Mangasarian. Machine learning techniques\\n    to diagnose breast cancer from fine-needle aspirates. Cancer Letters 77 (1994)\\n    163-171.\\n',\n",
              " 'feature_names': array(['mean radius', 'mean texture', 'mean perimeter', 'mean area',\n",
              "        'mean smoothness', 'mean compactness', 'mean concavity',\n",
              "        'mean concave points', 'mean symmetry', 'mean fractal dimension',\n",
              "        'radius error', 'texture error', 'perimeter error', 'area error',\n",
              "        'smoothness error', 'compactness error', 'concavity error',\n",
              "        'concave points error', 'symmetry error',\n",
              "        'fractal dimension error', 'worst radius', 'worst texture',\n",
              "        'worst perimeter', 'worst area', 'worst smoothness',\n",
              "        'worst compactness', 'worst concavity', 'worst concave points',\n",
              "        'worst symmetry', 'worst fractal dimension'], dtype='<U23'),\n",
              " 'filename': 'breast_cancer.csv',\n",
              " 'data_module': 'sklearn.datasets.data'}"
            ]
          },
          "metadata": {},
          "execution_count": 8
        }
      ],
      "execution_count": null
    },
    {
      "cell_type": "code",
      "source": [
        "X_train, X_test, y_train, y_test = train_test_split(X, y, test_size=0.2, random_state=42)"
      ],
      "metadata": {
        "trusted": true,
        "execution": {
          "iopub.status.busy": "2025-03-17T09:21:48.369275Z",
          "iopub.execute_input": "2025-03-17T09:21:48.369504Z",
          "iopub.status.idle": "2025-03-17T09:21:48.380964Z",
          "shell.execute_reply.started": "2025-03-17T09:21:48.369487Z",
          "shell.execute_reply": "2025-03-17T09:21:48.380038Z"
        },
        "id": "zsQwFTsRCP00"
      },
      "outputs": [],
      "execution_count": null
    },
    {
      "cell_type": "code",
      "source": [
        "scaler = StandardScaler()\n",
        "X_train = scaler.fit_transform(X_train)\n",
        "X_test = scaler.transform(X_test)"
      ],
      "metadata": {
        "trusted": true,
        "execution": {
          "iopub.status.busy": "2025-03-17T09:21:48.381760Z",
          "iopub.execute_input": "2025-03-17T09:21:48.382022Z",
          "iopub.status.idle": "2025-03-17T09:21:48.394154Z",
          "shell.execute_reply.started": "2025-03-17T09:21:48.382002Z",
          "shell.execute_reply": "2025-03-17T09:21:48.393360Z"
        },
        "id": "yJw6xA22CP02"
      },
      "outputs": [],
      "execution_count": null
    },
    {
      "cell_type": "code",
      "source": [
        "X_train_tensor = torch.tensor(X_train, dtype=torch.float32)\n",
        "X_test_tensor = torch.tensor(X_test, dtype=torch.float32)\n",
        "y_train_tensor = torch.tensor(y_train, dtype=torch.float32).view(-1, 1)\n",
        "y_test_tensor = torch.tensor(y_test, dtype=torch.float32).view(-1, 1)"
      ],
      "metadata": {
        "trusted": true,
        "execution": {
          "iopub.status.busy": "2025-03-17T09:21:48.394969Z",
          "iopub.execute_input": "2025-03-17T09:21:48.395282Z",
          "iopub.status.idle": "2025-03-17T09:21:48.404555Z",
          "shell.execute_reply.started": "2025-03-17T09:21:48.395250Z",
          "shell.execute_reply": "2025-03-17T09:21:48.403873Z"
        },
        "id": "cKFfJ23RCP03"
      },
      "outputs": [],
      "execution_count": null
    },
    {
      "cell_type": "code",
      "source": [
        "batch_size = 16\n",
        "train_dataset = TensorDataset(X_train_tensor, y_train_tensor)\n",
        "test_dataset = TensorDataset(X_test_tensor, y_test_tensor)\n",
        "train_loader = DataLoader(train_dataset, batch_size=batch_size, shuffle=True)\n",
        "test_loader = DataLoader(test_dataset, batch_size=batch_size, shuffle=False)"
      ],
      "metadata": {
        "trusted": true,
        "execution": {
          "iopub.status.busy": "2025-03-17T09:21:48.406393Z",
          "iopub.execute_input": "2025-03-17T09:21:48.406628Z",
          "iopub.status.idle": "2025-03-17T09:21:48.417787Z",
          "shell.execute_reply.started": "2025-03-17T09:21:48.406608Z",
          "shell.execute_reply": "2025-03-17T09:21:48.417052Z"
        },
        "id": "yQFdzF0SCP08"
      },
      "outputs": [],
      "execution_count": null
    },
    {
      "cell_type": "code",
      "source": [
        "class ANN(nn.Module):\n",
        "    def __init__(self, input_size):\n",
        "        super(ANN, self).__init__()\n",
        "        self.fc1 = nn.Linear(input_size, 32)\n",
        "        self.fc2 = nn.Linear(32, 64)\n",
        "        self.fc3 = nn.Linear(64, 32)\n",
        "        self.fc4 = nn.Linear(32, 16)\n",
        "        self.fc5 = nn.Linear(16, 1)\n",
        "        self.dropout = nn.Dropout(0.3)\n",
        "        self.relu = nn.ReLU()\n",
        "        self.sigmoid = nn.Sigmoid()\n",
        "\n",
        "    def forward(self, x):\n",
        "        x = self.relu(self.fc1(x))\n",
        "        x = self.dropout(x)\n",
        "        x = self.relu(self.fc2(x))\n",
        "        x = self.dropout(x)\n",
        "        x = self.relu(self.fc3(x))\n",
        "        x = self.relu(self.fc4(x))\n",
        "        x = self.sigmoid(self.fc5(x))\n",
        "        return x"
      ],
      "metadata": {
        "trusted": true,
        "execution": {
          "iopub.status.busy": "2025-03-17T09:21:48.418889Z",
          "iopub.execute_input": "2025-03-17T09:21:48.419158Z",
          "iopub.status.idle": "2025-03-17T09:21:48.430322Z",
          "shell.execute_reply.started": "2025-03-17T09:21:48.419131Z",
          "shell.execute_reply": "2025-03-17T09:21:48.429703Z"
        },
        "id": "ks-L5AS5CP0-"
      },
      "outputs": [],
      "execution_count": null
    },
    {
      "cell_type": "code",
      "source": [
        "input_size = X_train.shape[1]\n",
        "model = ANN(input_size)"
      ],
      "metadata": {
        "trusted": true,
        "execution": {
          "iopub.status.busy": "2025-03-17T09:21:48.431174Z",
          "iopub.execute_input": "2025-03-17T09:21:48.431446Z",
          "iopub.status.idle": "2025-03-17T09:21:48.444147Z",
          "shell.execute_reply.started": "2025-03-17T09:21:48.431419Z",
          "shell.execute_reply": "2025-03-17T09:21:48.443353Z"
        },
        "id": "WmpOq1cgCP1A"
      },
      "outputs": [],
      "execution_count": null
    },
    {
      "cell_type": "code",
      "source": [
        "criterion = nn.BCELoss()  # Binary Cross-Entropy for binary classification\n",
        "optimizer = optim.Adam(model.parameters(), lr=0.001)\n",
        "scheduler = optim.lr_scheduler.ReduceLROnPlateau(optimizer, mode='min', factor=0.5, patience=5, verbose=True)\n"
      ],
      "metadata": {
        "trusted": true,
        "execution": {
          "iopub.status.busy": "2025-03-17T09:21:48.444845Z",
          "iopub.execute_input": "2025-03-17T09:21:48.445028Z",
          "iopub.status.idle": "2025-03-17T09:21:49.302709Z",
          "shell.execute_reply.started": "2025-03-17T09:21:48.445012Z",
          "shell.execute_reply": "2025-03-17T09:21:49.301862Z"
        },
        "id": "UsmVxuvQCP1B",
        "outputId": "72fdd65f-ee52-4c81-9fd3-a1ea91bad104",
        "colab": {
          "base_uri": "https://localhost:8080/"
        }
      },
      "outputs": [
        {
          "output_type": "stream",
          "name": "stderr",
          "text": [
            "/usr/local/lib/python3.11/dist-packages/torch/optim/lr_scheduler.py:62: UserWarning: The verbose parameter is deprecated. Please use get_last_lr() to access the learning rate.\n",
            "  warnings.warn(\n"
          ]
        }
      ],
      "execution_count": null
    },
    {
      "cell_type": "code",
      "source": [
        "import matplotlib.pyplot as plt\n",
        "\n",
        "\n",
        "num_epochs = 100\n",
        "best_loss = np.inf\n",
        "early_stop_count = 0\n",
        "patience = 10\n",
        "train_losses = []\n",
        "val_losses = []\n"
      ],
      "metadata": {
        "trusted": true,
        "execution": {
          "iopub.status.busy": "2025-03-17T09:23:46.954994Z",
          "iopub.execute_input": "2025-03-17T09:23:46.955334Z",
          "iopub.status.idle": "2025-03-17T09:23:46.959649Z",
          "shell.execute_reply.started": "2025-03-17T09:23:46.955313Z",
          "shell.execute_reply": "2025-03-17T09:23:46.958668Z"
        },
        "id": "VY52J5aeCP1C"
      },
      "outputs": [],
      "execution_count": null
    },
    {
      "cell_type": "code",
      "source": [
        "for epoch in range(num_epochs):\n",
        "    model.train()\n",
        "    total_loss = 0\n",
        "\n",
        "    for X_batch, y_batch in train_loader:\n",
        "        optimizer.zero_grad()\n",
        "        y_pred = model(X_batch)\n",
        "        loss = criterion(y_pred, y_batch)\n",
        "        loss.backward()\n",
        "        optimizer.step()\n",
        "        total_loss += loss.item()\n",
        "\n",
        "    avg_loss = total_loss / len(train_loader)\n",
        "    train_losses.append(avg_loss)\n",
        "\n",
        "\n",
        "    model.eval()\n",
        "    val_loss = 0\n",
        "    with torch.no_grad():\n",
        "        for X_val, y_val in test_loader:\n",
        "            y_pred = model(X_val)\n",
        "            loss = criterion(y_pred, y_val)\n",
        "            val_loss += loss.item()\n",
        "\n",
        "    val_loss /= len(test_loader)\n",
        "    val_losses.append(val_loss)\n",
        "\n",
        "    scheduler.step(val_loss)\n",
        "\n",
        "    print(f\"Epoch {epoch+1}/{num_epochs} - Loss: {avg_loss:.4f} - Val Loss: {val_loss:.4f}\")\n",
        "\n",
        "\n",
        "\n",
        "    if val_loss < best_loss:\n",
        "        best_loss = val_loss\n",
        "        torch.save(model.state_dict(), \"best_ann_model.pth\")  # Save best model\n",
        "        early_stop_count = 0\n",
        "    else:\n",
        "        early_stop_count += 1\n",
        "        if early_stop_count >= patience:\n",
        "            print(\"Early stopping triggered!\")\n",
        "            break\n"
      ],
      "metadata": {
        "trusted": true,
        "execution": {
          "iopub.status.busy": "2025-03-17T09:23:50.334197Z",
          "iopub.execute_input": "2025-03-17T09:23:50.334502Z",
          "iopub.status.idle": "2025-03-17T09:23:51.993760Z",
          "shell.execute_reply.started": "2025-03-17T09:23:50.334480Z",
          "shell.execute_reply": "2025-03-17T09:23:51.992995Z"
        },
        "id": "QZVRgGUQCP1D",
        "outputId": "8791ec86-3180-442e-ef84-3ef2e1663876",
        "colab": {
          "base_uri": "https://localhost:8080/"
        }
      },
      "outputs": [
        {
          "output_type": "stream",
          "name": "stdout",
          "text": [
            "Epoch 1/100 - Loss: 0.6613 - Val Loss: 0.6021\n",
            "Epoch 2/100 - Loss: 0.4662 - Val Loss: 0.2743\n",
            "Epoch 3/100 - Loss: 0.2050 - Val Loss: 0.0885\n",
            "Epoch 4/100 - Loss: 0.1039 - Val Loss: 0.0831\n",
            "Epoch 5/100 - Loss: 0.0850 - Val Loss: 0.0667\n",
            "Epoch 6/100 - Loss: 0.0804 - Val Loss: 0.0660\n",
            "Epoch 7/100 - Loss: 0.0588 - Val Loss: 0.0575\n",
            "Epoch 8/100 - Loss: 0.0559 - Val Loss: 0.0570\n",
            "Epoch 9/100 - Loss: 0.0559 - Val Loss: 0.0514\n",
            "Epoch 10/100 - Loss: 0.0609 - Val Loss: 0.0636\n",
            "Epoch 11/100 - Loss: 0.0588 - Val Loss: 0.0533\n",
            "Epoch 12/100 - Loss: 0.0488 - Val Loss: 0.0523\n",
            "Epoch 13/100 - Loss: 0.0464 - Val Loss: 0.0507\n",
            "Epoch 14/100 - Loss: 0.0697 - Val Loss: 0.0540\n",
            "Epoch 15/100 - Loss: 0.0410 - Val Loss: 0.0515\n",
            "Epoch 16/100 - Loss: 0.0607 - Val Loss: 0.0514\n",
            "Epoch 17/100 - Loss: 0.0444 - Val Loss: 0.0576\n",
            "Epoch 18/100 - Loss: 0.0350 - Val Loss: 0.0663\n",
            "Epoch 19/100 - Loss: 0.0388 - Val Loss: 0.0618\n",
            "Epoch 20/100 - Loss: 0.0347 - Val Loss: 0.0584\n",
            "Epoch 21/100 - Loss: 0.0339 - Val Loss: 0.0627\n",
            "Epoch 22/100 - Loss: 0.0411 - Val Loss: 0.0618\n",
            "Epoch 23/100 - Loss: 0.0271 - Val Loss: 0.0580\n",
            "Early stopping triggered!\n"
          ]
        }
      ],
      "execution_count": null
    },
    {
      "cell_type": "code",
      "source": [
        "\n",
        "plt.figure(figsize=(10, 5))\n",
        "plt.plot(range(len(train_losses)), train_losses, label=\"Training Loss\", marker='o')\n",
        "plt.plot(range(len(val_losses)), val_losses, label=\"Validation Loss\", marker='o')\n",
        "plt.xlabel(\"Epochs\")\n",
        "plt.ylabel(\"Loss\")\n",
        "plt.title(\"Training vs Validation Loss\")\n",
        "plt.legend()\n",
        "plt.grid(True)\n",
        "plt.show()\n"
      ],
      "metadata": {
        "trusted": true,
        "execution": {
          "iopub.status.busy": "2025-03-17T09:23:57.040830Z",
          "iopub.execute_input": "2025-03-17T09:23:57.041252Z",
          "iopub.status.idle": "2025-03-17T09:23:57.266205Z",
          "shell.execute_reply.started": "2025-03-17T09:23:57.041216Z",
          "shell.execute_reply": "2025-03-17T09:23:57.265326Z"
        },
        "id": "lbl54iLXCP1E",
        "outputId": "2a49af9e-d0c1-48c6-bfec-b472b9d665f3",
        "colab": {
          "base_uri": "https://localhost:8080/",
          "height": 487
        }
      },
      "outputs": [
        {
          "output_type": "display_data",
          "data": {
            "text/plain": [
              "<Figure size 1000x500 with 1 Axes>"
            ],
            "image/png": "[encoded data removed]"
          },
          "metadata": {}
        }
      ],
      "execution_count": null
    },
    {
      "cell_type": "code",
      "source": [
        "\n",
        "model.load_state_dict(torch.load(\"best_ann_model.pth\"))\n",
        "\n",
        "\n",
        "model.eval()\n",
        "correct, total = 0, 0\n",
        "\n",
        "with torch.no_grad():\n",
        "    for X_val, y_val in test_loader:\n",
        "        y_pred = model(X_val)\n",
        "        predicted = (y_pred > 0.5).float()\n",
        "        correct += (predicted == y_val).sum().item()\n",
        "        total += y_val.size(0)\n",
        "\n",
        "accuracy = correct / total\n",
        "print(f\"Test Accuracy: {accuracy:.4f}\")\n"
      ],
      "metadata": {
        "trusted": true,
        "execution": {
          "iopub.status.busy": "2025-03-17T09:24:04.781576Z",
          "iopub.execute_input": "2025-03-17T09:24:04.781907Z",
          "iopub.status.idle": "2025-03-17T09:24:04.796677Z",
          "shell.execute_reply.started": "2025-03-17T09:24:04.781880Z",
          "shell.execute_reply": "2025-03-17T09:24:04.795842Z"
        },
        "id": "KOcyfeNYCP1F",
        "outputId": "5ecc59d2-3475-44dd-da4b-d9f08b64e221",
        "colab": {
          "base_uri": "https://localhost:8080/"
        }
      },
      "outputs": [
        {
          "output_type": "stream",
          "name": "stdout",
          "text": [
            "Test Accuracy: 0.9825\n"
          ]
        }
      ],
      "execution_count": null
    },
    {
      "cell_type": "code",
      "source": [
        "\n",
        "model.eval()\n",
        "with torch.no_grad():\n",
        "    predictions = model(X_test_tensor)\n",
        "    predictions = (predictions > 0.5).float()\n",
        "\n",
        "\n",
        "print(\"First 5 Predictions:\", predictions[:5].flatten().tolist())\n"
      ],
      "metadata": {
        "trusted": true,
        "execution": {
          "iopub.status.busy": "2025-03-17T09:24:08.124473Z",
          "iopub.execute_input": "2025-03-17T09:24:08.124820Z",
          "iopub.status.idle": "2025-03-17T09:24:08.131315Z",
          "shell.execute_reply.started": "2025-03-17T09:24:08.124795Z",
          "shell.execute_reply": "2025-03-17T09:24:08.130538Z"
        },
        "id": "fmVoqTL9CP1G",
        "outputId": "c3c95f92-1599-48e0-fd5c-89b058ed3ee9",
        "colab": {
          "base_uri": "https://localhost:8080/"
        }
      },
      "outputs": [
        {
          "output_type": "stream",
          "name": "stdout",
          "text": [
            "First 5 Predictions: [1.0, 0.0, 0.0, 1.0, 1.0]\n"
          ]
        }
      ],
      "execution_count": null
    },
    {
      "cell_type": "code",
      "source": [
        "from sklearn.metrics import confusion_matrix\n",
        "import seaborn as sns"
      ],
      "metadata": {
        "trusted": true,
        "execution": {
          "iopub.status.busy": "2025-03-17T09:26:00.075509Z",
          "iopub.execute_input": "2025-03-17T09:26:00.075868Z",
          "iopub.status.idle": "2025-03-17T09:26:00.379677Z",
          "shell.execute_reply.started": "2025-03-17T09:26:00.075841Z",
          "shell.execute_reply": "2025-03-17T09:26:00.378779Z"
        },
        "id": "tIzEaYWkCP1H"
      },
      "outputs": [],
      "execution_count": null
    },
    {
      "cell_type": "code",
      "source": [
        "\n",
        "model.eval()\n",
        "y_pred = model(X_test_tensor).detach().numpy()\n",
        "y_pred = (y_pred > 0.5).astype(int)\n",
        "\n",
        "cm = confusion_matrix(y_test, y_pred)\n",
        "\n",
        "plt.figure(figsize=(6, 5))\n",
        "sns.heatmap(cm, annot=True, fmt='d', cmap='Blues', xticklabels=[\"Negative\", \"Positive\"], yticklabels=[\"Negative\", \"Positive\"])\n",
        "plt.xlabel(\"Predicted\")\n",
        "plt.ylabel(\"Actual\")\n",
        "plt.title(\"Confusion Matrix\")\n",
        "plt.show()\n"
      ],
      "metadata": {
        "trusted": true,
        "execution": {
          "iopub.status.busy": "2025-03-17T09:26:02.473961Z",
          "iopub.execute_input": "2025-03-17T09:26:02.474422Z",
          "iopub.status.idle": "2025-03-17T09:26:02.662676Z",
          "shell.execute_reply.started": "2025-03-17T09:26:02.474394Z",
          "shell.execute_reply": "2025-03-17T09:26:02.661735Z"
        },
        "id": "p9CyVNRyCP1I",
        "outputId": "25134d67-a8a9-4bbc-89e7-4075b1787c24",
        "colab": {
          "base_uri": "https://localhost:8080/",
          "height": 487
        }
      },
      "outputs": [
        {
          "output_type": "display_data",
          "data": {
            "text/plain": [
              "<Figure size 600x500 with 2 Axes>"
            ],
            "image/png": "[encoded data removed]"
          },
          "metadata": {}
        }
      ],
      "execution_count": null
    },
    {
      "cell_type": "code",
      "source": [
        "from sklearn.metrics import classification_report\n",
        "\n",
        "print(classification_report(y_test, y_pred, target_names=[\"Negative\", \"Positive\"]))\n"
      ],
      "metadata": {
        "trusted": true,
        "execution": {
          "iopub.status.busy": "2025-03-17T09:26:12.765027Z",
          "iopub.execute_input": "2025-03-17T09:26:12.765327Z",
          "iopub.status.idle": "2025-03-17T09:26:12.779037Z",
          "shell.execute_reply.started": "2025-03-17T09:26:12.765297Z",
          "shell.execute_reply": "2025-03-17T09:26:12.778216Z"
        },
        "id": "E0-Lis36CP1I",
        "outputId": "dd364072-e34b-4c62-aaba-6fa532c6015f",
        "colab": {
          "base_uri": "https://localhost:8080/"
        }
      },
      "outputs": [
        {
          "output_type": "stream",
          "name": "stdout",
          "text": [
            "              precision    recall  f1-score   support\n",
            "\n",
            "    Negative       0.98      0.98      0.98        43\n",
            "    Positive       0.99      0.99      0.99        71\n",
            "\n",
            "    accuracy                           0.98       114\n",
            "   macro avg       0.98      0.98      0.98       114\n",
            "weighted avg       0.98      0.98      0.98       114\n",
            "\n"
          ]
        }
      ],
      "execution_count": null
    },
    {
      "cell_type": "code",
      "source": [],
      "metadata": {
        "id": "a4FCh95C0JxK"
      },
      "execution_count": null,
      "outputs": []
    }
  ]
}